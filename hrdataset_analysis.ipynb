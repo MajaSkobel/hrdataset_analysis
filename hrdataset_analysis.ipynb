{
 "cells": [
  {
   "cell_type": "code",
   "execution_count": 1,
   "id": "663c5538-1c50-463f-b494-b201429ca7a8",
   "metadata": {},
   "outputs": [],
   "source": [
    "import pandas as pd\n",
    "import numpy as np\n",
    "import matplotlib.pyplot as plt\n",
    "import seaborn as sns"
   ]
  },
  {
   "cell_type": "code",
   "execution_count": 82,
   "id": "21ab9e84-f907-479d-8d5e-3d191fa43958",
   "metadata": {},
   "outputs": [
    {
     "data": {
      "text/html": [
       "<div>\n",
       "<style scoped>\n",
       "    .dataframe tbody tr th:only-of-type {\n",
       "        vertical-align: middle;\n",
       "    }\n",
       "\n",
       "    .dataframe tbody tr th {\n",
       "        vertical-align: top;\n",
       "    }\n",
       "\n",
       "    .dataframe thead th {\n",
       "        text-align: right;\n",
       "    }\n",
       "</style>\n",
       "<table border=\"1\" class=\"dataframe\">\n",
       "  <thead>\n",
       "    <tr style=\"text-align: right;\">\n",
       "      <th></th>\n",
       "      <th>Employee_Name</th>\n",
       "      <th>EmpID</th>\n",
       "      <th>MarriedID</th>\n",
       "      <th>MaritalStatusID</th>\n",
       "      <th>GenderID</th>\n",
       "      <th>EmpStatusID</th>\n",
       "      <th>DeptID</th>\n",
       "      <th>PerfScoreID</th>\n",
       "      <th>FromDiversityJobFairID</th>\n",
       "      <th>PayRate</th>\n",
       "      <th>...</th>\n",
       "      <th>Department</th>\n",
       "      <th>ManagerName</th>\n",
       "      <th>ManagerID</th>\n",
       "      <th>RecruitmentSource</th>\n",
       "      <th>PerformanceScore</th>\n",
       "      <th>EngagementSurvey</th>\n",
       "      <th>EmpSatisfaction</th>\n",
       "      <th>SpecialProjectsCount</th>\n",
       "      <th>LastPerformanceReview_Date</th>\n",
       "      <th>DaysLateLast30</th>\n",
       "    </tr>\n",
       "  </thead>\n",
       "  <tbody>\n",
       "    <tr>\n",
       "      <th>0</th>\n",
       "      <td>Brown, Mia</td>\n",
       "      <td>1.103024e+09</td>\n",
       "      <td>1.0</td>\n",
       "      <td>1.0</td>\n",
       "      <td>0.0</td>\n",
       "      <td>1.0</td>\n",
       "      <td>1.0</td>\n",
       "      <td>3.0</td>\n",
       "      <td>1.0</td>\n",
       "      <td>28.50</td>\n",
       "      <td>...</td>\n",
       "      <td>Admin Offices</td>\n",
       "      <td>Brandon R. LeBlanc</td>\n",
       "      <td>1.0</td>\n",
       "      <td>Diversity Job Fair</td>\n",
       "      <td>Fully Meets</td>\n",
       "      <td>2.04</td>\n",
       "      <td>2.0</td>\n",
       "      <td>6.0</td>\n",
       "      <td>1/15/2019</td>\n",
       "      <td>0.0</td>\n",
       "    </tr>\n",
       "    <tr>\n",
       "      <th>1</th>\n",
       "      <td>LaRotonda, William</td>\n",
       "      <td>1.106027e+09</td>\n",
       "      <td>0.0</td>\n",
       "      <td>2.0</td>\n",
       "      <td>1.0</td>\n",
       "      <td>1.0</td>\n",
       "      <td>1.0</td>\n",
       "      <td>3.0</td>\n",
       "      <td>0.0</td>\n",
       "      <td>23.00</td>\n",
       "      <td>...</td>\n",
       "      <td>Admin Offices</td>\n",
       "      <td>Brandon R. LeBlanc</td>\n",
       "      <td>1.0</td>\n",
       "      <td>Website Banner Ads</td>\n",
       "      <td>Fully Meets</td>\n",
       "      <td>5.00</td>\n",
       "      <td>4.0</td>\n",
       "      <td>4.0</td>\n",
       "      <td>1/17/2019</td>\n",
       "      <td>0.0</td>\n",
       "    </tr>\n",
       "    <tr>\n",
       "      <th>2</th>\n",
       "      <td>Steans, Tyrone</td>\n",
       "      <td>1.302053e+09</td>\n",
       "      <td>0.0</td>\n",
       "      <td>0.0</td>\n",
       "      <td>1.0</td>\n",
       "      <td>1.0</td>\n",
       "      <td>1.0</td>\n",
       "      <td>3.0</td>\n",
       "      <td>0.0</td>\n",
       "      <td>29.00</td>\n",
       "      <td>...</td>\n",
       "      <td>Admin Offices</td>\n",
       "      <td>Brandon R. LeBlanc</td>\n",
       "      <td>1.0</td>\n",
       "      <td>Internet Search</td>\n",
       "      <td>Fully Meets</td>\n",
       "      <td>3.90</td>\n",
       "      <td>5.0</td>\n",
       "      <td>5.0</td>\n",
       "      <td>1/18/2019</td>\n",
       "      <td>0.0</td>\n",
       "    </tr>\n",
       "    <tr>\n",
       "      <th>3</th>\n",
       "      <td>Howard, Estelle</td>\n",
       "      <td>1.211051e+09</td>\n",
       "      <td>1.0</td>\n",
       "      <td>1.0</td>\n",
       "      <td>0.0</td>\n",
       "      <td>1.0</td>\n",
       "      <td>1.0</td>\n",
       "      <td>3.0</td>\n",
       "      <td>0.0</td>\n",
       "      <td>21.50</td>\n",
       "      <td>...</td>\n",
       "      <td>Admin Offices</td>\n",
       "      <td>Brandon R. LeBlanc</td>\n",
       "      <td>1.0</td>\n",
       "      <td>Pay Per Click - Google</td>\n",
       "      <td>Fully Meets</td>\n",
       "      <td>3.24</td>\n",
       "      <td>3.0</td>\n",
       "      <td>4.0</td>\n",
       "      <td>NaN</td>\n",
       "      <td>NaN</td>\n",
       "    </tr>\n",
       "    <tr>\n",
       "      <th>4</th>\n",
       "      <td>Singh, Nan</td>\n",
       "      <td>1.307060e+09</td>\n",
       "      <td>0.0</td>\n",
       "      <td>0.0</td>\n",
       "      <td>0.0</td>\n",
       "      <td>1.0</td>\n",
       "      <td>1.0</td>\n",
       "      <td>3.0</td>\n",
       "      <td>0.0</td>\n",
       "      <td>16.56</td>\n",
       "      <td>...</td>\n",
       "      <td>Admin Offices</td>\n",
       "      <td>Brandon R. LeBlanc</td>\n",
       "      <td>1.0</td>\n",
       "      <td>Website Banner Ads</td>\n",
       "      <td>Fully Meets</td>\n",
       "      <td>5.00</td>\n",
       "      <td>3.0</td>\n",
       "      <td>5.0</td>\n",
       "      <td>1/15/2019</td>\n",
       "      <td>0.0</td>\n",
       "    </tr>\n",
       "  </tbody>\n",
       "</table>\n",
       "<p>5 rows × 35 columns</p>\n",
       "</div>"
      ],
      "text/plain": [
       "          Employee_Name         EmpID  MarriedID  MaritalStatusID  GenderID  \\\n",
       "0            Brown, Mia  1.103024e+09        1.0              1.0       0.0   \n",
       "1  LaRotonda, William    1.106027e+09        0.0              2.0       1.0   \n",
       "2      Steans, Tyrone    1.302053e+09        0.0              0.0       1.0   \n",
       "3       Howard, Estelle  1.211051e+09        1.0              1.0       0.0   \n",
       "4           Singh, Nan   1.307060e+09        0.0              0.0       0.0   \n",
       "\n",
       "   EmpStatusID  DeptID  PerfScoreID  FromDiversityJobFairID  PayRate  ...  \\\n",
       "0          1.0     1.0          3.0                     1.0    28.50  ...   \n",
       "1          1.0     1.0          3.0                     0.0    23.00  ...   \n",
       "2          1.0     1.0          3.0                     0.0    29.00  ...   \n",
       "3          1.0     1.0          3.0                     0.0    21.50  ...   \n",
       "4          1.0     1.0          3.0                     0.0    16.56  ...   \n",
       "\n",
       "      Department         ManagerName ManagerID       RecruitmentSource  \\\n",
       "0  Admin Offices  Brandon R. LeBlanc       1.0      Diversity Job Fair   \n",
       "1  Admin Offices  Brandon R. LeBlanc       1.0      Website Banner Ads   \n",
       "2  Admin Offices  Brandon R. LeBlanc       1.0         Internet Search   \n",
       "3  Admin Offices  Brandon R. LeBlanc       1.0  Pay Per Click - Google   \n",
       "4  Admin Offices  Brandon R. LeBlanc       1.0      Website Banner Ads   \n",
       "\n",
       "   PerformanceScore EngagementSurvey EmpSatisfaction SpecialProjectsCount  \\\n",
       "0       Fully Meets             2.04             2.0                  6.0   \n",
       "1       Fully Meets             5.00             4.0                  4.0   \n",
       "2       Fully Meets             3.90             5.0                  5.0   \n",
       "3       Fully Meets             3.24             3.0                  4.0   \n",
       "4       Fully Meets             5.00             3.0                  5.0   \n",
       "\n",
       "  LastPerformanceReview_Date DaysLateLast30  \n",
       "0                  1/15/2019            0.0  \n",
       "1                  1/17/2019            0.0  \n",
       "2                  1/18/2019            0.0  \n",
       "3                        NaN            NaN  \n",
       "4                  1/15/2019            0.0  \n",
       "\n",
       "[5 rows x 35 columns]"
      ]
     },
     "execution_count": 82,
     "metadata": {},
     "output_type": "execute_result"
    }
   ],
   "source": [
    "df = pd.read_csv('HRDataset.csv')\n",
    "df.head()"
   ]
  },
  {
   "cell_type": "code",
   "execution_count": 71,
   "id": "7bb1353c-5def-4bb4-8b2e-331cb5d36370",
   "metadata": {},
   "outputs": [],
   "source": [
    "df.drop(['LastPerformanceReview_Date','DaysLateLast30'],axis=1,inplace=True)\n",
    "df.dropna(thresh=2,inplace=True)"
   ]
  },
  {
   "cell_type": "code",
   "execution_count": 72,
   "id": "5dec2304-2dad-462b-a047-812ff1957c69",
   "metadata": {},
   "outputs": [
    {
     "data": {
      "text/plain": [
       "<Axes: >"
      ]
     },
     "execution_count": 72,
     "metadata": {},
     "output_type": "execute_result"
    },
    {
     "data": {
      "image/png": "[encoded data removed]",
      "text/plain": [
       "<Figure size 640x480 with 2 Axes>"
      ]
     },
     "metadata": {},
     "output_type": "display_data"
    }
   ],
   "source": [
    "sns.heatmap(df.isnull())"
   ]
  },
  {
   "cell_type": "code",
   "execution_count": 140,
   "id": "c39c575f-1a16-462b-8831-7696b652c5f4",
   "metadata": {},
   "outputs": [],
   "source": [
    "#Zadanie 1"
   ]
  },
  {
   "cell_type": "code",
   "execution_count": 74,
   "id": "64f8fb6a-823a-4676-96b0-3f46922d56ff",
   "metadata": {},
   "outputs": [
    {
     "data": {
      "text/plain": [
       "ManagerID\n",
       "20.0    22\n",
       "18.0    22\n",
       "16.0    22\n",
       "11.0    21\n",
       "19.0    21\n",
       "22.0    21\n",
       "12.0    21\n",
       "14.0    21\n",
       "2.0     19\n",
       "4.0     17\n",
       "7.0     14\n",
       "17.0    14\n",
       "39.0    13\n",
       "21.0    13\n",
       "10.0     9\n",
       "13.0     8\n",
       "5.0      7\n",
       "1.0      6\n",
       "6.0      4\n",
       "15.0     3\n",
       "9.0      2\n",
       "30.0     1\n",
       "3.0      1\n",
       "Name: count, dtype: int64"
      ]
     },
     "execution_count": 74,
     "metadata": {},
     "output_type": "execute_result"
    }
   ],
   "source": [
    "df['ManagerID'].value_counts()"
   ]
  },
  {
   "cell_type": "code",
   "execution_count": 142,
   "id": "7aff6026-cde9-4128-bcac-29aca35c2f16",
   "metadata": {},
   "outputs": [
    {
     "data": {
      "text/plain": [
       "Index([15.0, 9.0, 30.0, 3.0], dtype='float64', name='ManagerID')"
      ]
     },
     "execution_count": 142,
     "metadata": {},
     "output_type": "execute_result"
    }
   ],
   "source": [
    "#Pozbywamy się do analizy menadżerów, który zarządzali 3 lub mniej pracownikami\n",
    "managers_to_drop = df['ManagerID'].value_counts()[df['ManagerID'].value_counts() <= 3].index\n",
    "managers_to_drop"
   ]
  },
  {
   "cell_type": "code",
   "execution_count": 144,
   "id": "5d65fec7-2b3e-4175-a239-61a4ba5903cb",
   "metadata": {},
   "outputs": [
    {
     "data": {
      "text/html": [
       "<div>\n",
       "<style scoped>\n",
       "    .dataframe tbody tr th:only-of-type {\n",
       "        vertical-align: middle;\n",
       "    }\n",
       "\n",
       "    .dataframe tbody tr th {\n",
       "        vertical-align: top;\n",
       "    }\n",
       "\n",
       "    .dataframe thead th {\n",
       "        text-align: right;\n",
       "    }\n",
       "</style>\n",
       "<table border=\"1\" class=\"dataframe\">\n",
       "  <thead>\n",
       "    <tr style=\"text-align: right;\">\n",
       "      <th></th>\n",
       "      <th>ManagerID</th>\n",
       "      <th>PerfScoreID</th>\n",
       "      <th>Percentage</th>\n",
       "    </tr>\n",
       "  </thead>\n",
       "  <tbody>\n",
       "    <tr>\n",
       "      <th>0</th>\n",
       "      <td>1.0</td>\n",
       "      <td>3.0</td>\n",
       "      <td>1.000000</td>\n",
       "    </tr>\n",
       "    <tr>\n",
       "      <th>1</th>\n",
       "      <td>2.0</td>\n",
       "      <td>3.0</td>\n",
       "      <td>0.684211</td>\n",
       "    </tr>\n",
       "    <tr>\n",
       "      <th>2</th>\n",
       "      <td>2.0</td>\n",
       "      <td>4.0</td>\n",
       "      <td>0.210526</td>\n",
       "    </tr>\n",
       "    <tr>\n",
       "      <th>3</th>\n",
       "      <td>2.0</td>\n",
       "      <td>2.0</td>\n",
       "      <td>0.105263</td>\n",
       "    </tr>\n",
       "    <tr>\n",
       "      <th>5</th>\n",
       "      <td>4.0</td>\n",
       "      <td>3.0</td>\n",
       "      <td>0.882353</td>\n",
       "    </tr>\n",
       "  </tbody>\n",
       "</table>\n",
       "</div>"
      ],
      "text/plain": [
       "   ManagerID  PerfScoreID  Percentage\n",
       "0        1.0          3.0    1.000000\n",
       "1        2.0          3.0    0.684211\n",
       "2        2.0          4.0    0.210526\n",
       "3        2.0          2.0    0.105263\n",
       "5        4.0          3.0    0.882353"
      ]
     },
     "execution_count": 144,
     "metadata": {},
     "output_type": "execute_result"
    }
   ],
   "source": [
    "#Udziałowy procent ocen wg menadżera\n",
    "man_and_perf = df.groupby('ManagerID')['PerfScoreID'].value_counts(normalize=True).rename('Percentage').reset_index()\n",
    "man_and_perf = man_and_perf.drop(man_and_perf[man_and_perf['ManagerID'].isin(managers_to_drop)].index)\n",
    "man_and_perf.head()"
   ]
  },
  {
   "cell_type": "code",
   "execution_count": 136,
   "id": "5e8fd42f-0f28-4e04-983b-7b49817e3a75",
   "metadata": {},
   "outputs": [
    {
     "data": {
      "image/png": "[encoded data removed]",
      "text/plain": [
       "<Figure size 640x480 with 1 Axes>"
      ]
     },
     "metadata": {},
     "output_type": "display_data"
    }
   ],
   "source": [
    "sns.barplot(x='ManagerID', y='Percentage', hue='PerfScoreID', data=man_and_perf)\n",
    "plt.xticks(fontsize=6)\n",
    "plt.show()"
   ]
  },
  {
   "cell_type": "code",
   "execution_count": 146,
   "id": "224ac1ff-945f-4b0d-a82a-210439e20804",
   "metadata": {},
   "outputs": [
    {
     "data": {
      "text/html": [
       "<div>\n",
       "<style scoped>\n",
       "    .dataframe tbody tr th:only-of-type {\n",
       "        vertical-align: middle;\n",
       "    }\n",
       "\n",
       "    .dataframe tbody tr th {\n",
       "        vertical-align: top;\n",
       "    }\n",
       "\n",
       "    .dataframe thead th {\n",
       "        text-align: right;\n",
       "    }\n",
       "</style>\n",
       "<table border=\"1\" class=\"dataframe\">\n",
       "  <thead>\n",
       "    <tr style=\"text-align: right;\">\n",
       "      <th></th>\n",
       "      <th>PerfScoreID</th>\n",
       "    </tr>\n",
       "    <tr>\n",
       "      <th>ManagerID</th>\n",
       "      <th></th>\n",
       "    </tr>\n",
       "  </thead>\n",
       "  <tbody>\n",
       "    <tr>\n",
       "      <th>1.0</th>\n",
       "      <td>3.000000</td>\n",
       "    </tr>\n",
       "    <tr>\n",
       "      <th>2.0</th>\n",
       "      <td>3.000000</td>\n",
       "    </tr>\n",
       "    <tr>\n",
       "      <th>4.0</th>\n",
       "      <td>3.500000</td>\n",
       "    </tr>\n",
       "    <tr>\n",
       "      <th>5.0</th>\n",
       "      <td>3.000000</td>\n",
       "    </tr>\n",
       "    <tr>\n",
       "      <th>6.0</th>\n",
       "      <td>3.500000</td>\n",
       "    </tr>\n",
       "    <tr>\n",
       "      <th>7.0</th>\n",
       "      <td>2.000000</td>\n",
       "    </tr>\n",
       "    <tr>\n",
       "      <th>10.0</th>\n",
       "      <td>3.000000</td>\n",
       "    </tr>\n",
       "    <tr>\n",
       "      <th>11.0</th>\n",
       "      <td>2.500000</td>\n",
       "    </tr>\n",
       "    <tr>\n",
       "      <th>12.0</th>\n",
       "      <td>2.500000</td>\n",
       "    </tr>\n",
       "    <tr>\n",
       "      <th>13.0</th>\n",
       "      <td>3.000000</td>\n",
       "    </tr>\n",
       "    <tr>\n",
       "      <th>14.0</th>\n",
       "      <td>3.000000</td>\n",
       "    </tr>\n",
       "    <tr>\n",
       "      <th>16.0</th>\n",
       "      <td>3.000000</td>\n",
       "    </tr>\n",
       "    <tr>\n",
       "      <th>17.0</th>\n",
       "      <td>2.000000</td>\n",
       "    </tr>\n",
       "    <tr>\n",
       "      <th>18.0</th>\n",
       "      <td>3.000000</td>\n",
       "    </tr>\n",
       "    <tr>\n",
       "      <th>19.0</th>\n",
       "      <td>3.000000</td>\n",
       "    </tr>\n",
       "    <tr>\n",
       "      <th>20.0</th>\n",
       "      <td>2.500000</td>\n",
       "    </tr>\n",
       "    <tr>\n",
       "      <th>21.0</th>\n",
       "      <td>2.666667</td>\n",
       "    </tr>\n",
       "    <tr>\n",
       "      <th>22.0</th>\n",
       "      <td>2.500000</td>\n",
       "    </tr>\n",
       "    <tr>\n",
       "      <th>39.0</th>\n",
       "      <td>3.000000</td>\n",
       "    </tr>\n",
       "  </tbody>\n",
       "</table>\n",
       "</div>"
      ],
      "text/plain": [
       "           PerfScoreID\n",
       "ManagerID             \n",
       "1.0           3.000000\n",
       "2.0           3.000000\n",
       "4.0           3.500000\n",
       "5.0           3.000000\n",
       "6.0           3.500000\n",
       "7.0           2.000000\n",
       "10.0          3.000000\n",
       "11.0          2.500000\n",
       "12.0          2.500000\n",
       "13.0          3.000000\n",
       "14.0          3.000000\n",
       "16.0          3.000000\n",
       "17.0          2.000000\n",
       "18.0          3.000000\n",
       "19.0          3.000000\n",
       "20.0          2.500000\n",
       "21.0          2.666667\n",
       "22.0          2.500000\n",
       "39.0          3.000000"
      ]
     },
     "execution_count": 146,
     "metadata": {},
     "output_type": "execute_result"
    }
   ],
   "source": [
    "#Średnia ocena, którą wystawił każdy menadżer\n",
    "man_and_perf.pivot_table(index='ManagerID', values='PerfScoreID', aggfunc='mean')"
   ]
  },
  {
   "cell_type": "code",
   "execution_count": 78,
   "id": "6982bc28-8e17-4fe4-bc4e-55e1792b3f22",
   "metadata": {},
   "outputs": [
    {
     "data": {
      "text/plain": [
       "np.float64(-0.06530609488589603)"
      ]
     },
     "execution_count": 78,
     "metadata": {},
     "output_type": "execute_result"
    }
   ],
   "source": [
    "df['ManagerID'].corr(df['PerfScoreID'])"
   ]
  },
  {
   "cell_type": "code",
   "execution_count": 147,
   "id": "de332189-8740-4826-a096-d07c92cd6120",
   "metadata": {},
   "outputs": [],
   "source": [
    "#Pokazaliśmy procentowy udział ocen wg menadżera\n",
    "#Według analizy menadżer nr 12 miał najbardziej rozbierzne opinie - wiele pracowników dostało 1, wiele natomiast 4\n",
    "#Dla zdecydowanej większości menadżerów najwięcej udziału ma ocena 3\n",
    "#Menadżerowie nr 7, 17 mogą być uznani za najbardziej surowych, jakoże nie dali oceny 4, lecz dali kilka 1\n",
    "#Pearson's correlation coefficient jest ponadto bliski zeru, co znaczy, że nie ma dowodów na liniową korelację między poziomem satysfkacji a menadżerem"
   ]
  },
  {
   "cell_type": "code",
   "execution_count": 83,
   "id": "f6c96fbe-b83e-49b7-a9b8-2031a17368d0",
   "metadata": {},
   "outputs": [],
   "source": [
    "#Zadanie 2\n",
    "import datetime as dt\n",
    "\n",
    "def count_seniority(row):\n",
    "\n",
    "    if pd.isnull(row['DateofTermination']):\n",
    "        end_date = dt.datetime(2019,9,27)\n",
    "    else:\n",
    "        end_date = row['DateofTermination']\n",
    "\n",
    "    return (end_date - row['DateofHire']).days / 365.25"
   ]
  },
  {
   "cell_type": "code",
   "execution_count": 92,
   "id": "f9b2bc9d-6f7a-4e68-8fa7-0fb6d2d11317",
   "metadata": {},
   "outputs": [
    {
     "data": {
      "text/html": [
       "<div>\n",
       "<style scoped>\n",
       "    .dataframe tbody tr th:only-of-type {\n",
       "        vertical-align: middle;\n",
       "    }\n",
       "\n",
       "    .dataframe tbody tr th {\n",
       "        vertical-align: top;\n",
       "    }\n",
       "\n",
       "    .dataframe thead th {\n",
       "        text-align: right;\n",
       "    }\n",
       "</style>\n",
       "<table border=\"1\" class=\"dataframe\">\n",
       "  <thead>\n",
       "    <tr style=\"text-align: right;\">\n",
       "      <th></th>\n",
       "      <th>DateofTermination</th>\n",
       "      <th>DOB</th>\n",
       "      <th>DateofHire</th>\n",
       "    </tr>\n",
       "  </thead>\n",
       "  <tbody>\n",
       "    <tr>\n",
       "      <th>0</th>\n",
       "      <td>NaT</td>\n",
       "      <td>1987-11-24</td>\n",
       "      <td>2008-10-27</td>\n",
       "    </tr>\n",
       "    <tr>\n",
       "      <th>1</th>\n",
       "      <td>NaT</td>\n",
       "      <td>1984-04-26</td>\n",
       "      <td>2014-01-06</td>\n",
       "    </tr>\n",
       "    <tr>\n",
       "      <th>2</th>\n",
       "      <td>NaT</td>\n",
       "      <td>1986-09-01</td>\n",
       "      <td>2014-09-29</td>\n",
       "    </tr>\n",
       "    <tr>\n",
       "      <th>3</th>\n",
       "      <td>2015-04-15</td>\n",
       "      <td>1985-09-16</td>\n",
       "      <td>2015-02-16</td>\n",
       "    </tr>\n",
       "    <tr>\n",
       "      <th>4</th>\n",
       "      <td>NaT</td>\n",
       "      <td>1988-05-19</td>\n",
       "      <td>2015-05-01</td>\n",
       "    </tr>\n",
       "    <tr>\n",
       "      <th>5</th>\n",
       "      <td>2013-09-25</td>\n",
       "      <td>1987-06-14</td>\n",
       "      <td>2011-09-26</td>\n",
       "    </tr>\n",
       "    <tr>\n",
       "      <th>6</th>\n",
       "      <td>2014-08-02</td>\n",
       "      <td>1964-06-01</td>\n",
       "      <td>2011-08-15</td>\n",
       "    </tr>\n",
       "    <tr>\n",
       "      <th>7</th>\n",
       "      <td>NaT</td>\n",
       "      <td>1963-05-15</td>\n",
       "      <td>2014-08-18</td>\n",
       "    </tr>\n",
       "    <tr>\n",
       "      <th>8</th>\n",
       "      <td>NaT</td>\n",
       "      <td>1987-05-14</td>\n",
       "      <td>2012-02-20</td>\n",
       "    </tr>\n",
       "    <tr>\n",
       "      <th>9</th>\n",
       "      <td>NaT</td>\n",
       "      <td>1988-09-14</td>\n",
       "      <td>2014-08-18</td>\n",
       "    </tr>\n",
       "  </tbody>\n",
       "</table>\n",
       "</div>"
      ],
      "text/plain": [
       "  DateofTermination        DOB DateofHire\n",
       "0               NaT 1987-11-24 2008-10-27\n",
       "1               NaT 1984-04-26 2014-01-06\n",
       "2               NaT 1986-09-01 2014-09-29\n",
       "3        2015-04-15 1985-09-16 2015-02-16\n",
       "4               NaT 1988-05-19 2015-05-01\n",
       "5        2013-09-25 1987-06-14 2011-09-26\n",
       "6        2014-08-02 1964-06-01 2011-08-15\n",
       "7               NaT 1963-05-15 2014-08-18\n",
       "8               NaT 1987-05-14 2012-02-20\n",
       "9               NaT 1988-09-14 2014-08-18"
      ]
     },
     "execution_count": 92,
     "metadata": {},
     "output_type": "execute_result"
    }
   ],
   "source": [
    "df['DOB'] = pd.to_datetime(df['DOB'],format='%m/%d/%y')\n",
    "df['DateofTermination'] = pd.to_datetime(df['DateofTermination'],format='%m/%d/%y')\n",
    "df['DateofHire'] = pd.to_datetime(df['DateofHire'],format='%m/%d/%Y')\n",
    "#Lata '65' itd. były rozumiane jako 1965, więc musiałam użyć:\n",
    "df['DOB'] = df['DOB'].apply(lambda x: x if x.year <= dt.datetime.now().year else x.replace(year=x.year - 100))\n",
    "df[['DateofTermination','DOB','DateofHire']].head(10)"
   ]
  },
  {
   "cell_type": "code",
   "execution_count": 28,
   "id": "5e1381bf-e457-4a2e-a54f-368bb93e5a97",
   "metadata": {},
   "outputs": [
    {
     "data": {
      "text/html": [
       "<div>\n",
       "<style scoped>\n",
       "    .dataframe tbody tr th:only-of-type {\n",
       "        vertical-align: middle;\n",
       "    }\n",
       "\n",
       "    .dataframe tbody tr th {\n",
       "        vertical-align: top;\n",
       "    }\n",
       "\n",
       "    .dataframe thead th {\n",
       "        text-align: right;\n",
       "    }\n",
       "</style>\n",
       "<table border=\"1\" class=\"dataframe\">\n",
       "  <thead>\n",
       "    <tr style=\"text-align: right;\">\n",
       "      <th></th>\n",
       "      <th>DateofHire</th>\n",
       "      <th>DateofTermination</th>\n",
       "      <th>Seniority</th>\n",
       "    </tr>\n",
       "  </thead>\n",
       "  <tbody>\n",
       "    <tr>\n",
       "      <th>0</th>\n",
       "      <td>2008-10-27</td>\n",
       "      <td>NaT</td>\n",
       "      <td>10.915811</td>\n",
       "    </tr>\n",
       "    <tr>\n",
       "      <th>1</th>\n",
       "      <td>2014-01-06</td>\n",
       "      <td>NaT</td>\n",
       "      <td>5.722108</td>\n",
       "    </tr>\n",
       "    <tr>\n",
       "      <th>2</th>\n",
       "      <td>2014-09-29</td>\n",
       "      <td>NaT</td>\n",
       "      <td>4.993840</td>\n",
       "    </tr>\n",
       "    <tr>\n",
       "      <th>3</th>\n",
       "      <td>2015-02-16</td>\n",
       "      <td>2015-04-15</td>\n",
       "      <td>0.158795</td>\n",
       "    </tr>\n",
       "    <tr>\n",
       "      <th>4</th>\n",
       "      <td>2015-05-01</td>\n",
       "      <td>NaT</td>\n",
       "      <td>4.407940</td>\n",
       "    </tr>\n",
       "  </tbody>\n",
       "</table>\n",
       "</div>"
      ],
      "text/plain": [
       "  DateofHire DateofTermination  Seniority\n",
       "0 2008-10-27               NaT  10.915811\n",
       "1 2014-01-06               NaT   5.722108\n",
       "2 2014-09-29               NaT   4.993840\n",
       "3 2015-02-16        2015-04-15   0.158795\n",
       "4 2015-05-01               NaT   4.407940"
      ]
     },
     "execution_count": 28,
     "metadata": {},
     "output_type": "execute_result"
    }
   ],
   "source": [
    "df['Seniority'] = df.apply(lambda row: count_seniority(row),axis=1)\n",
    "df[['DateofHire','DateofTermination','Seniority']].head()"
   ]
  },
  {
   "cell_type": "code",
   "execution_count": 31,
   "id": "21f3122f-7bdc-41ed-8fcf-fc8f08162b2e",
   "metadata": {},
   "outputs": [
    {
     "data": {
      "text/plain": [
       "RecruitmentSource\n",
       "Employee Referral                         31\n",
       "Diversity Job Fair                        29\n",
       "Search Engine - Google Bing Yahoo         25\n",
       "Monster.com                               24\n",
       "Pay Per Click - Google                    21\n",
       "Professional Society                      20\n",
       "Newspager/Magazine                        18\n",
       "MBTA ads                                  17\n",
       "Billboard                                 16\n",
       "Vendor Referral                           15\n",
       "Glassdoor                                 14\n",
       "Website Banner Ads                        13\n",
       "Word of Mouth                             13\n",
       "On-campus Recruiting                      12\n",
       "Social Networks - Facebook Twitter etc    11\n",
       "Other                                      9\n",
       "Indeed                                     8\n",
       "Internet Search                            6\n",
       "Information Session                        4\n",
       "Pay Per Click                              1\n",
       "On-line Web application                    1\n",
       "Careerbuilder                              1\n",
       "Company Intranet - Partner                 1\n",
       "Name: count, dtype: int64"
      ]
     },
     "execution_count": 31,
     "metadata": {},
     "output_type": "execute_result"
    }
   ],
   "source": [
    "df['RecruitmentSource'].value_counts()"
   ]
  },
  {
   "cell_type": "code",
   "execution_count": 33,
   "id": "954dfc4e-7c8d-4948-9312-8160dfee158a",
   "metadata": {},
   "outputs": [
    {
     "data": {
      "text/plain": [
       "RecruitmentSource\n",
       "Employee Referral                         31\n",
       "Diversity Job Fair                        29\n",
       "Search Engine - Google Bing Yahoo         25\n",
       "Monster.com                               24\n",
       "Pay Per Click - Google                    21\n",
       "Professional Society                      20\n",
       "Newspager/Magazine                        18\n",
       "Other                                     17\n",
       "MBTA ads                                  17\n",
       "Billboard                                 16\n",
       "Vendor Referral                           15\n",
       "Glassdoor                                 14\n",
       "Website Banner Ads                        13\n",
       "Word of Mouth                             13\n",
       "On-campus Recruiting                      12\n",
       "Social Networks - Facebook Twitter etc    11\n",
       "Indeed                                     8\n",
       "Internet Search                            6\n",
       "Name: count, dtype: int64"
      ]
     },
     "execution_count": 33,
     "metadata": {},
     "output_type": "execute_result"
    }
   ],
   "source": [
    "#By uporządkować dane, kategorie, które mają mniej niż 6 pracowników zostaną przerzucone do kategorii \"Other\"\n",
    "df['RecruitmentSource'].replace(['Information Session','Pay Per Click','On-line Web application','Careerbuilder','Company Intranet - Partner'], 'Other')\n",
    "df['RecruitmentSource'].value_counts()"
   ]
  },
  {
   "cell_type": "code",
   "execution_count": 34,
   "id": "0a3c69d7-026f-4233-886f-7d4a4fcc725e",
   "metadata": {},
   "outputs": [
    {
     "data": {
      "text/plain": [
       "<Axes: xlabel='Seniority', ylabel='RecruitmentSource'>"
      ]
     },
     "execution_count": 34,
     "metadata": {},
     "output_type": "execute_result"
    },
    {
     "data": {
      "image/png": "[encoded data removed]",
      "text/plain": [
       "<Figure size 640x480 with 1 Axes>"
      ]
     },
     "metadata": {},
     "output_type": "display_data"
    }
   ],
   "source": [
    "sns.boxplot(x='Seniority', y='RecruitmentSource', data=df)"
   ]
  },
  {
   "cell_type": "code",
   "execution_count": 37,
   "id": "939bd594-0fe5-46db-bb99-e41b52537d4d",
   "metadata": {},
   "outputs": [],
   "source": [
    "#W tym wypadku lepiej spojrzeć na medianę niż na średnią, gdyż mediana ignoruje outliery.\n",
    "#Jeśli zależy nam na jak najdłuższym stażu pracowników, najlepszym źródłem rekrutacji jest \"Billboard\".\n",
    "#Źródło rekrutacji nie ma jednak aż tak wielkiego znaczenia, jakoże mediany wahają się dla większości kategorii w okolicach 5-6 lat.\n",
    "#Wyjątkami są \"Diversity Job Fair\", \"Social Networks\", \"Indeed\" i \"Word of Mouth\", które wiążą się z krótszym stażem."
   ]
  },
  {
   "cell_type": "code",
   "execution_count": 151,
   "id": "d121bed9-a57a-4cd4-a1fe-2887a05f63d9",
   "metadata": {},
   "outputs": [],
   "source": [
    "#Zadanie 3"
   ]
  },
  {
   "cell_type": "code",
   "execution_count": 46,
   "id": "8212d0d8-92a2-4be8-821f-40d570d4491c",
   "metadata": {},
   "outputs": [
    {
     "data": {
      "text/plain": [
       "MaritalDesc\n",
       "Single       137\n",
       "Married      123\n",
       "Divorced      30\n",
       "Separated     12\n",
       "Widowed        8\n",
       "Name: count, dtype: int64"
      ]
     },
     "execution_count": 46,
     "metadata": {},
     "output_type": "execute_result"
    }
   ],
   "source": [
    "df['MaritalDesc'].value_counts()"
   ]
  },
  {
   "cell_type": "code",
   "execution_count": 152,
   "id": "36773476-a1e6-44f4-994e-f786fa5d3016",
   "metadata": {},
   "outputs": [],
   "source": [
    "#Osób owdowiałych jest zdecydowanie najmniej. Warto by się zastanowić\n",
    "#czy taka liczba obserwacji nie jest za mała, by nie wprowadzić błędów do analizy."
   ]
  },
  {
   "cell_type": "code",
   "execution_count": 155,
   "id": "da9db75c-800d-40b2-a9af-6507403d5676",
   "metadata": {},
   "outputs": [
    {
     "data": {
      "text/html": [
       "<div>\n",
       "<style scoped>\n",
       "    .dataframe tbody tr th:only-of-type {\n",
       "        vertical-align: middle;\n",
       "    }\n",
       "\n",
       "    .dataframe tbody tr th {\n",
       "        vertical-align: top;\n",
       "    }\n",
       "\n",
       "    .dataframe thead th {\n",
       "        text-align: right;\n",
       "    }\n",
       "</style>\n",
       "<table border=\"1\" class=\"dataframe\">\n",
       "  <thead>\n",
       "    <tr style=\"text-align: right;\">\n",
       "      <th></th>\n",
       "      <th>MaritalDesc</th>\n",
       "      <th>EmpSatisfaction</th>\n",
       "      <th>Percentage</th>\n",
       "    </tr>\n",
       "  </thead>\n",
       "  <tbody>\n",
       "    <tr>\n",
       "      <th>0</th>\n",
       "      <td>Divorced</td>\n",
       "      <td>4.0</td>\n",
       "      <td>0.466667</td>\n",
       "    </tr>\n",
       "    <tr>\n",
       "      <th>1</th>\n",
       "      <td>Divorced</td>\n",
       "      <td>5.0</td>\n",
       "      <td>0.300000</td>\n",
       "    </tr>\n",
       "    <tr>\n",
       "      <th>2</th>\n",
       "      <td>Divorced</td>\n",
       "      <td>3.0</td>\n",
       "      <td>0.200000</td>\n",
       "    </tr>\n",
       "    <tr>\n",
       "      <th>3</th>\n",
       "      <td>Divorced</td>\n",
       "      <td>2.0</td>\n",
       "      <td>0.033333</td>\n",
       "    </tr>\n",
       "    <tr>\n",
       "      <th>4</th>\n",
       "      <td>Married</td>\n",
       "      <td>3.0</td>\n",
       "      <td>0.439024</td>\n",
       "    </tr>\n",
       "  </tbody>\n",
       "</table>\n",
       "</div>"
      ],
      "text/plain": [
       "  MaritalDesc  EmpSatisfaction  Percentage\n",
       "0    Divorced              4.0    0.466667\n",
       "1    Divorced              5.0    0.300000\n",
       "2    Divorced              3.0    0.200000\n",
       "3    Divorced              2.0    0.033333\n",
       "4     Married              3.0    0.439024"
      ]
     },
     "execution_count": 155,
     "metadata": {},
     "output_type": "execute_result"
    }
   ],
   "source": [
    "mar_and_emp = df.groupby('MaritalDesc')['EmpSatisfaction'].value_counts(normalize=True).rename('Percentage').reset_index()\n",
    "mar_and_emp.head()"
   ]
  },
  {
   "cell_type": "code",
   "execution_count": 157,
   "id": "ae68ad29-29ed-495d-adea-e459a60f78af",
   "metadata": {},
   "outputs": [
    {
     "data": {
      "text/html": [
       "<div>\n",
       "<style scoped>\n",
       "    .dataframe tbody tr th:only-of-type {\n",
       "        vertical-align: middle;\n",
       "    }\n",
       "\n",
       "    .dataframe tbody tr th {\n",
       "        vertical-align: top;\n",
       "    }\n",
       "\n",
       "    .dataframe thead th {\n",
       "        text-align: right;\n",
       "    }\n",
       "</style>\n",
       "<table border=\"1\" class=\"dataframe\">\n",
       "  <thead>\n",
       "    <tr style=\"text-align: right;\">\n",
       "      <th></th>\n",
       "      <th>EmpSatisfaction</th>\n",
       "    </tr>\n",
       "    <tr>\n",
       "      <th>MaritalDesc</th>\n",
       "      <th></th>\n",
       "    </tr>\n",
       "  </thead>\n",
       "  <tbody>\n",
       "    <tr>\n",
       "      <th>Divorced</th>\n",
       "      <td>3.50</td>\n",
       "    </tr>\n",
       "    <tr>\n",
       "      <th>Married</th>\n",
       "      <td>3.50</td>\n",
       "    </tr>\n",
       "    <tr>\n",
       "      <th>Separated</th>\n",
       "      <td>3.25</td>\n",
       "    </tr>\n",
       "    <tr>\n",
       "      <th>Single</th>\n",
       "      <td>3.00</td>\n",
       "    </tr>\n",
       "    <tr>\n",
       "      <th>Widowed</th>\n",
       "      <td>4.50</td>\n",
       "    </tr>\n",
       "  </tbody>\n",
       "</table>\n",
       "</div>"
      ],
      "text/plain": [
       "             EmpSatisfaction\n",
       "MaritalDesc                 \n",
       "Divorced                3.50\n",
       "Married                 3.50\n",
       "Separated               3.25\n",
       "Single                  3.00\n",
       "Widowed                 4.50"
      ]
     },
     "execution_count": 157,
     "metadata": {},
     "output_type": "execute_result"
    }
   ],
   "source": [
    "#Średni poziom szczęścia wg statusu\n",
    "mar_and_emp.pivot_table(index='MaritalDesc', values='EmpSatisfaction', aggfunc='mean')"
   ]
  },
  {
   "cell_type": "code",
   "execution_count": 150,
   "id": "d84609c6-d9e0-4095-b3eb-4da522ee9eed",
   "metadata": {},
   "outputs": [
    {
     "data": {
      "image/png": "[encoded data removed]",
      "text/plain": [
       "<Figure size 640x480 with 1 Axes>"
      ]
     },
     "metadata": {},
     "output_type": "display_data"
    }
   ],
   "source": [
    "sns.barplot(x='MaritalDesc', y='Percentage', hue='EmpSatisfaction', data=mar_and_emp)\n",
    "plt.show()"
   ]
  },
  {
   "cell_type": "code",
   "execution_count": null,
   "id": "3d016bb8-2ae0-471b-a254-edc5ebcdbb84",
   "metadata": {},
   "outputs": [],
   "source": [
    "#Według średniej, osoby owdowiałe są zazwyczaj średnio najszczęśliwsze, a single najmniej szczęśliwi\n",
    "#Osoby odseparowane zawierają zarazem największy procent procentowy osób najmniej i najbardziej szczęśliwych\n",
    "#Między najbardziej licznymi grupami, osobami zamężnymi/żonatymi i singlami, single wydają się bardziej szczęśliwi,\n",
    "#jako że mają większy udział ocen 4 i 5, mimo że wg średniej są oni mniej szczęśliwi"
   ]
  },
  {
   "cell_type": "code",
   "execution_count": 91,
   "id": "94675a18-ee1c-4e27-90df-63c8593fa1e7",
   "metadata": {},
   "outputs": [
    {
     "data": {
      "text/html": [
       "<div>\n",
       "<style scoped>\n",
       "    .dataframe tbody tr th:only-of-type {\n",
       "        vertical-align: middle;\n",
       "    }\n",
       "\n",
       "    .dataframe tbody tr th {\n",
       "        vertical-align: top;\n",
       "    }\n",
       "\n",
       "    .dataframe thead th {\n",
       "        text-align: right;\n",
       "    }\n",
       "</style>\n",
       "<table border=\"1\" class=\"dataframe\">\n",
       "  <thead>\n",
       "    <tr style=\"text-align: right;\">\n",
       "      <th></th>\n",
       "      <th>DOB</th>\n",
       "      <th>Age</th>\n",
       "    </tr>\n",
       "  </thead>\n",
       "  <tbody>\n",
       "    <tr>\n",
       "      <th>0</th>\n",
       "      <td>1987-11-24</td>\n",
       "      <td>31.841205</td>\n",
       "    </tr>\n",
       "    <tr>\n",
       "      <th>1</th>\n",
       "      <td>1984-04-26</td>\n",
       "      <td>35.419576</td>\n",
       "    </tr>\n",
       "    <tr>\n",
       "      <th>2</th>\n",
       "      <td>1986-09-01</td>\n",
       "      <td>33.070500</td>\n",
       "    </tr>\n",
       "    <tr>\n",
       "      <th>3</th>\n",
       "      <td>1985-09-16</td>\n",
       "      <td>34.028747</td>\n",
       "    </tr>\n",
       "    <tr>\n",
       "      <th>4</th>\n",
       "      <td>1988-05-19</td>\n",
       "      <td>31.356605</td>\n",
       "    </tr>\n",
       "  </tbody>\n",
       "</table>\n",
       "</div>"
      ],
      "text/plain": [
       "         DOB        Age\n",
       "0 1987-11-24  31.841205\n",
       "1 1984-04-26  35.419576\n",
       "2 1986-09-01  33.070500\n",
       "3 1985-09-16  34.028747\n",
       "4 1988-05-19  31.356605"
      ]
     },
     "execution_count": 91,
     "metadata": {},
     "output_type": "execute_result"
    }
   ],
   "source": [
    "#Zadanie 4\n",
    "reference_date = dt.datetime(2019, 9, 27)\n",
    "df['Age'] = (reference_date - df['DOB']).dt.days / 365.25\n",
    "df[['DOB','Age']].head()"
   ]
  },
  {
   "cell_type": "code",
   "execution_count": 86,
   "id": "7b3cf902-e6b8-4736-a5cb-cdb306d7e66c",
   "metadata": {},
   "outputs": [
    {
     "data": {
      "text/html": [
       "<div>\n",
       "<style scoped>\n",
       "    .dataframe tbody tr th:only-of-type {\n",
       "        vertical-align: middle;\n",
       "    }\n",
       "\n",
       "    .dataframe tbody tr th {\n",
       "        vertical-align: top;\n",
       "    }\n",
       "\n",
       "    .dataframe thead th {\n",
       "        text-align: right;\n",
       "    }\n",
       "</style>\n",
       "<table border=\"1\" class=\"dataframe\">\n",
       "  <thead>\n",
       "    <tr style=\"text-align: right;\">\n",
       "      <th></th>\n",
       "      <th>Employee_Name</th>\n",
       "      <th>EmpID</th>\n",
       "      <th>MarriedID</th>\n",
       "      <th>MaritalStatusID</th>\n",
       "      <th>GenderID</th>\n",
       "      <th>EmpStatusID</th>\n",
       "      <th>DeptID</th>\n",
       "      <th>PerfScoreID</th>\n",
       "      <th>FromDiversityJobFairID</th>\n",
       "      <th>PayRate</th>\n",
       "      <th>...</th>\n",
       "      <th>ManagerName</th>\n",
       "      <th>ManagerID</th>\n",
       "      <th>RecruitmentSource</th>\n",
       "      <th>PerformanceScore</th>\n",
       "      <th>EngagementSurvey</th>\n",
       "      <th>EmpSatisfaction</th>\n",
       "      <th>SpecialProjectsCount</th>\n",
       "      <th>LastPerformanceReview_Date</th>\n",
       "      <th>DaysLateLast30</th>\n",
       "      <th>Age</th>\n",
       "    </tr>\n",
       "  </thead>\n",
       "  <tbody>\n",
       "    <tr>\n",
       "      <th>0</th>\n",
       "      <td>Brown, Mia</td>\n",
       "      <td>1.103024e+09</td>\n",
       "      <td>1.0</td>\n",
       "      <td>1.0</td>\n",
       "      <td>0.0</td>\n",
       "      <td>1.0</td>\n",
       "      <td>1.0</td>\n",
       "      <td>3.0</td>\n",
       "      <td>1.0</td>\n",
       "      <td>28.50</td>\n",
       "      <td>...</td>\n",
       "      <td>Brandon R. LeBlanc</td>\n",
       "      <td>1.0</td>\n",
       "      <td>Diversity Job Fair</td>\n",
       "      <td>Fully Meets</td>\n",
       "      <td>2.04</td>\n",
       "      <td>2.0</td>\n",
       "      <td>6.0</td>\n",
       "      <td>1/15/2019</td>\n",
       "      <td>0.0</td>\n",
       "      <td>31.841205</td>\n",
       "    </tr>\n",
       "    <tr>\n",
       "      <th>1</th>\n",
       "      <td>LaRotonda, William</td>\n",
       "      <td>1.106027e+09</td>\n",
       "      <td>0.0</td>\n",
       "      <td>2.0</td>\n",
       "      <td>1.0</td>\n",
       "      <td>1.0</td>\n",
       "      <td>1.0</td>\n",
       "      <td>3.0</td>\n",
       "      <td>0.0</td>\n",
       "      <td>23.00</td>\n",
       "      <td>...</td>\n",
       "      <td>Brandon R. LeBlanc</td>\n",
       "      <td>1.0</td>\n",
       "      <td>Website Banner Ads</td>\n",
       "      <td>Fully Meets</td>\n",
       "      <td>5.00</td>\n",
       "      <td>4.0</td>\n",
       "      <td>4.0</td>\n",
       "      <td>1/17/2019</td>\n",
       "      <td>0.0</td>\n",
       "      <td>35.419576</td>\n",
       "    </tr>\n",
       "    <tr>\n",
       "      <th>2</th>\n",
       "      <td>Steans, Tyrone</td>\n",
       "      <td>1.302053e+09</td>\n",
       "      <td>0.0</td>\n",
       "      <td>0.0</td>\n",
       "      <td>1.0</td>\n",
       "      <td>1.0</td>\n",
       "      <td>1.0</td>\n",
       "      <td>3.0</td>\n",
       "      <td>0.0</td>\n",
       "      <td>29.00</td>\n",
       "      <td>...</td>\n",
       "      <td>Brandon R. LeBlanc</td>\n",
       "      <td>1.0</td>\n",
       "      <td>Internet Search</td>\n",
       "      <td>Fully Meets</td>\n",
       "      <td>3.90</td>\n",
       "      <td>5.0</td>\n",
       "      <td>5.0</td>\n",
       "      <td>1/18/2019</td>\n",
       "      <td>0.0</td>\n",
       "      <td>33.070500</td>\n",
       "    </tr>\n",
       "    <tr>\n",
       "      <th>4</th>\n",
       "      <td>Singh, Nan</td>\n",
       "      <td>1.307060e+09</td>\n",
       "      <td>0.0</td>\n",
       "      <td>0.0</td>\n",
       "      <td>0.0</td>\n",
       "      <td>1.0</td>\n",
       "      <td>1.0</td>\n",
       "      <td>3.0</td>\n",
       "      <td>0.0</td>\n",
       "      <td>16.56</td>\n",
       "      <td>...</td>\n",
       "      <td>Brandon R. LeBlanc</td>\n",
       "      <td>1.0</td>\n",
       "      <td>Website Banner Ads</td>\n",
       "      <td>Fully Meets</td>\n",
       "      <td>5.00</td>\n",
       "      <td>3.0</td>\n",
       "      <td>5.0</td>\n",
       "      <td>1/15/2019</td>\n",
       "      <td>0.0</td>\n",
       "      <td>31.356605</td>\n",
       "    </tr>\n",
       "    <tr>\n",
       "      <th>7</th>\n",
       "      <td>Carter, Michelle</td>\n",
       "      <td>1.403066e+09</td>\n",
       "      <td>0.0</td>\n",
       "      <td>0.0</td>\n",
       "      <td>0.0</td>\n",
       "      <td>1.0</td>\n",
       "      <td>6.0</td>\n",
       "      <td>3.0</td>\n",
       "      <td>0.0</td>\n",
       "      <td>55.00</td>\n",
       "      <td>...</td>\n",
       "      <td>John Smith</td>\n",
       "      <td>17.0</td>\n",
       "      <td>Billboard</td>\n",
       "      <td>Fully Meets</td>\n",
       "      <td>5.00</td>\n",
       "      <td>5.0</td>\n",
       "      <td>0.0</td>\n",
       "      <td>1/21/2019</td>\n",
       "      <td>0.0</td>\n",
       "      <td>56.369610</td>\n",
       "    </tr>\n",
       "  </tbody>\n",
       "</table>\n",
       "<p>5 rows × 36 columns</p>\n",
       "</div>"
      ],
      "text/plain": [
       "          Employee_Name         EmpID  MarriedID  MaritalStatusID  GenderID  \\\n",
       "0            Brown, Mia  1.103024e+09        1.0              1.0       0.0   \n",
       "1  LaRotonda, William    1.106027e+09        0.0              2.0       1.0   \n",
       "2      Steans, Tyrone    1.302053e+09        0.0              0.0       1.0   \n",
       "4           Singh, Nan   1.307060e+09        0.0              0.0       0.0   \n",
       "7     Carter, Michelle   1.403066e+09        0.0              0.0       0.0   \n",
       "\n",
       "   EmpStatusID  DeptID  PerfScoreID  FromDiversityJobFairID  PayRate  ...  \\\n",
       "0          1.0     1.0          3.0                     1.0    28.50  ...   \n",
       "1          1.0     1.0          3.0                     0.0    23.00  ...   \n",
       "2          1.0     1.0          3.0                     0.0    29.00  ...   \n",
       "4          1.0     1.0          3.0                     0.0    16.56  ...   \n",
       "7          1.0     6.0          3.0                     0.0    55.00  ...   \n",
       "\n",
       "          ManagerName  ManagerID   RecruitmentSource PerformanceScore  \\\n",
       "0  Brandon R. LeBlanc        1.0  Diversity Job Fair      Fully Meets   \n",
       "1  Brandon R. LeBlanc        1.0  Website Banner Ads      Fully Meets   \n",
       "2  Brandon R. LeBlanc        1.0     Internet Search      Fully Meets   \n",
       "4  Brandon R. LeBlanc        1.0  Website Banner Ads      Fully Meets   \n",
       "7          John Smith       17.0           Billboard      Fully Meets   \n",
       "\n",
       "   EngagementSurvey EmpSatisfaction SpecialProjectsCount  \\\n",
       "0              2.04             2.0                  6.0   \n",
       "1              5.00             4.0                  4.0   \n",
       "2              3.90             5.0                  5.0   \n",
       "4              5.00             3.0                  5.0   \n",
       "7              5.00             5.0                  0.0   \n",
       "\n",
       "  LastPerformanceReview_Date DaysLateLast30        Age  \n",
       "0                  1/15/2019            0.0  31.841205  \n",
       "1                  1/17/2019            0.0  35.419576  \n",
       "2                  1/18/2019            0.0  33.070500  \n",
       "4                  1/15/2019            0.0  31.356605  \n",
       "7                  1/21/2019            0.0  56.369610  \n",
       "\n",
       "[5 rows x 36 columns]"
      ]
     },
     "execution_count": 86,
     "metadata": {},
     "output_type": "execute_result"
    }
   ],
   "source": [
    "curr_employed=df[df['EmploymentStatus']=='Active']\n",
    "curr_employed.head()"
   ]
  },
  {
   "cell_type": "code",
   "execution_count": 88,
   "id": "d5547d96-8c42-408a-846b-2ff55dac2397",
   "metadata": {},
   "outputs": [
    {
     "data": {
      "text/plain": [
       "<Axes: xlabel='Age', ylabel='Count'>"
      ]
     },
     "execution_count": 88,
     "metadata": {},
     "output_type": "execute_result"
    },
    {
     "data": {
      "image/png": "[encoded data removed]",
      "text/plain": [
       "<Figure size 640x480 with 1 Axes>"
      ]
     },
     "metadata": {},
     "output_type": "display_data"
    }
   ],
   "source": [
    "sns.histplot(curr_employed['Age'])"
   ]
  },
  {
   "cell_type": "code",
   "execution_count": 93,
   "id": "20d0c90d-e390-4fb4-8172-818f8fb281e1",
   "metadata": {},
   "outputs": [
    {
     "data": {
      "text/plain": [
       "<Axes: xlabel='Age'>"
      ]
     },
     "execution_count": 93,
     "metadata": {},
     "output_type": "execute_result"
    },
    {
     "data": {
      "image/png": "[encoded data removed]",
      "text/plain": [
       "<Figure size 640x480 with 1 Axes>"
      ]
     },
     "metadata": {},
     "output_type": "display_data"
    }
   ],
   "source": [
    "sns.boxplot(x='Age', data=curr_employed)"
   ]
  },
  {
   "cell_type": "code",
   "execution_count": 89,
   "id": "c66d797b-6097-40ce-a3c2-69a6be8830af",
   "metadata": {},
   "outputs": [
    {
     "data": {
      "text/plain": [
       "np.float64(68.7337440109514)"
      ]
     },
     "execution_count": 89,
     "metadata": {},
     "output_type": "execute_result"
    }
   ],
   "source": [
    "curr_employed['Age'].max()"
   ]
  },
  {
   "cell_type": "code",
   "execution_count": 90,
   "id": "a6b54d33-2e22-435d-8332-0e0bbff2c528",
   "metadata": {},
   "outputs": [
    {
     "data": {
      "text/plain": [
       "np.float64(27.110198494182068)"
      ]
     },
     "execution_count": 90,
     "metadata": {},
     "output_type": "execute_result"
    }
   ],
   "source": [
    "curr_employed['Age'].min()"
   ]
  },
  {
   "cell_type": "code",
   "execution_count": 94,
   "id": "b4c6544f-24e6-49e6-8003-eb3d995d0899",
   "metadata": {},
   "outputs": [
    {
     "data": {
      "text/plain": [
       "np.float64(38.33401779603012)"
      ]
     },
     "execution_count": 94,
     "metadata": {},
     "output_type": "execute_result"
    }
   ],
   "source": [
    "curr_employed['Age'].median()"
   ]
  },
  {
   "cell_type": "code",
   "execution_count": 96,
   "id": "88f95395-5977-4c09-9a1d-d3f0caa17a87",
   "metadata": {},
   "outputs": [
    {
     "data": {
      "text/plain": [
       "np.float64(39.9330730870772)"
      ]
     },
     "execution_count": 96,
     "metadata": {},
     "output_type": "execute_result"
    }
   ],
   "source": [
    "curr_employed['Age'].mean()"
   ]
  },
  {
   "cell_type": "code",
   "execution_count": 97,
   "id": "84ebee57-ff83-4b71-9aea-3ad35d477cd8",
   "metadata": {},
   "outputs": [],
   "source": [
    "#Najmłodsza osoba ma 27 lat, a najstarsza prawie 69.\n",
    "#Histogram jest skewed to the left, co znaczy że znacząca większość pracowników jest w dolnej połowie (osoby młodsze), z medianą 38 lat.\n",
    "#Kilka najstarszych osób zostało uznanych za outliery.\n",
    "#Średnia i mediana są sobie bliskie, co znaczy, że outliery nie wprowadzają znacznych błędów (choć zawyżają średnią, to nie aż tak znacząco)."
   ]
  },
  {
   "cell_type": "code",
   "execution_count": 163,
   "id": "b6e972d6-4e6b-4dbc-8991-954790f20bcc",
   "metadata": {},
   "outputs": [],
   "source": [
    "#Zadanie 5"
   ]
  },
  {
   "cell_type": "code",
   "execution_count": 112,
   "id": "68ab62e2-22b9-499e-9046-0f4f50e4298f",
   "metadata": {},
   "outputs": [
    {
     "data": {
      "text/plain": [
       "SpecialProjectsCount\n",
       "0.0    242\n",
       "6.0     21\n",
       "5.0     21\n",
       "7.0     12\n",
       "4.0      9\n",
       "3.0      2\n",
       "8.0      2\n",
       "2.0      1\n",
       "Name: count, dtype: int64"
      ]
     },
     "execution_count": 112,
     "metadata": {},
     "output_type": "execute_result"
    }
   ],
   "source": [
    "df['SpecialProjectsCount'].value_counts()"
   ]
  },
  {
   "cell_type": "code",
   "execution_count": 165,
   "id": "76b89405-f82b-43ae-a964-d7337cb2f6ef",
   "metadata": {},
   "outputs": [
    {
     "data": {
      "text/plain": [
       "Index([3.0, 8.0, 2.0], dtype='float64', name='SpecialProjectsCount')"
      ]
     },
     "execution_count": 165,
     "metadata": {},
     "output_type": "execute_result"
    }
   ],
   "source": [
    "#Pozbędziemy się do analizy ilości projektów, które miało 5 lub mniej osób\n",
    "projects_to_drop = df['SpecialProjectsCount'].value_counts()[df['SpecialProjectsCount'].value_counts() <= 5].index\n",
    "projects_to_drop"
   ]
  },
  {
   "cell_type": "code",
   "execution_count": 208,
   "id": "7e3b367e-312f-42a9-ad4b-566a27b46a45",
   "metadata": {},
   "outputs": [
    {
     "data": {
      "text/html": [
       "<div>\n",
       "<style scoped>\n",
       "    .dataframe tbody tr th:only-of-type {\n",
       "        vertical-align: middle;\n",
       "    }\n",
       "\n",
       "    .dataframe tbody tr th {\n",
       "        vertical-align: top;\n",
       "    }\n",
       "\n",
       "    .dataframe thead th {\n",
       "        text-align: right;\n",
       "    }\n",
       "</style>\n",
       "<table border=\"1\" class=\"dataframe\">\n",
       "  <thead>\n",
       "    <tr style=\"text-align: right;\">\n",
       "      <th></th>\n",
       "      <th>Age</th>\n",
       "      <th>Age_Approx_5</th>\n",
       "    </tr>\n",
       "  </thead>\n",
       "  <tbody>\n",
       "    <tr>\n",
       "      <th>0</th>\n",
       "      <td>31.841205</td>\n",
       "      <td>30.0</td>\n",
       "    </tr>\n",
       "    <tr>\n",
       "      <th>1</th>\n",
       "      <td>35.419576</td>\n",
       "      <td>35.0</td>\n",
       "    </tr>\n",
       "    <tr>\n",
       "      <th>2</th>\n",
       "      <td>33.070500</td>\n",
       "      <td>35.0</td>\n",
       "    </tr>\n",
       "    <tr>\n",
       "      <th>3</th>\n",
       "      <td>34.028747</td>\n",
       "      <td>35.0</td>\n",
       "    </tr>\n",
       "    <tr>\n",
       "      <th>4</th>\n",
       "      <td>31.356605</td>\n",
       "      <td>30.0</td>\n",
       "    </tr>\n",
       "  </tbody>\n",
       "</table>\n",
       "</div>"
      ],
      "text/plain": [
       "         Age  Age_Approx_5\n",
       "0  31.841205          30.0\n",
       "1  35.419576          35.0\n",
       "2  33.070500          35.0\n",
       "3  34.028747          35.0\n",
       "4  31.356605          30.0"
      ]
     },
     "execution_count": 208,
     "metadata": {},
     "output_type": "execute_result"
    }
   ],
   "source": [
    "#Zaokrąglamy wiek do 5 lat\n",
    "df['Age_Approx_5'] = (df['Age']/5).round()*5\n",
    "df[['Age','Age_Approx_5']].head()"
   ]
  },
  {
   "cell_type": "code",
   "execution_count": 217,
   "id": "0bf696f8-cd89-4702-ba3b-433103817325",
   "metadata": {},
   "outputs": [
    {
     "data": {
      "text/html": [
       "<div>\n",
       "<style scoped>\n",
       "    .dataframe tbody tr th:only-of-type {\n",
       "        vertical-align: middle;\n",
       "    }\n",
       "\n",
       "    .dataframe tbody tr th {\n",
       "        vertical-align: top;\n",
       "    }\n",
       "\n",
       "    .dataframe thead th {\n",
       "        text-align: right;\n",
       "    }\n",
       "</style>\n",
       "<table border=\"1\" class=\"dataframe\">\n",
       "  <thead>\n",
       "    <tr style=\"text-align: right;\">\n",
       "      <th></th>\n",
       "      <th>SpecialProjectsCount</th>\n",
       "      <th>Age_Approx_5</th>\n",
       "      <th>Percentage</th>\n",
       "    </tr>\n",
       "  </thead>\n",
       "  <tbody>\n",
       "    <tr>\n",
       "      <th>0</th>\n",
       "      <td>0.0</td>\n",
       "      <td>35.0</td>\n",
       "      <td>0.256198</td>\n",
       "    </tr>\n",
       "    <tr>\n",
       "      <th>1</th>\n",
       "      <td>0.0</td>\n",
       "      <td>40.0</td>\n",
       "      <td>0.194215</td>\n",
       "    </tr>\n",
       "    <tr>\n",
       "      <th>2</th>\n",
       "      <td>0.0</td>\n",
       "      <td>45.0</td>\n",
       "      <td>0.169421</td>\n",
       "    </tr>\n",
       "    <tr>\n",
       "      <th>3</th>\n",
       "      <td>0.0</td>\n",
       "      <td>30.0</td>\n",
       "      <td>0.152893</td>\n",
       "    </tr>\n",
       "    <tr>\n",
       "      <th>4</th>\n",
       "      <td>0.0</td>\n",
       "      <td>50.0</td>\n",
       "      <td>0.103306</td>\n",
       "    </tr>\n",
       "  </tbody>\n",
       "</table>\n",
       "</div>"
      ],
      "text/plain": [
       "   SpecialProjectsCount  Age_Approx_5  Percentage\n",
       "0                   0.0          35.0    0.256198\n",
       "1                   0.0          40.0    0.194215\n",
       "2                   0.0          45.0    0.169421\n",
       "3                   0.0          30.0    0.152893\n",
       "4                   0.0          50.0    0.103306"
      ]
     },
     "execution_count": 217,
     "metadata": {},
     "output_type": "execute_result"
    }
   ],
   "source": [
    "age_and_pro = df.groupby('SpecialProjectsCount')['Age_Approx_5'].value_counts(normalize=True).rename('Percentage').reset_index()\n",
    "age_and_pro = age_and_pro.drop(age_and_pro[age_and_pro['SpecialProjectsCount'].isin(projects_to_drop)].index)\n",
    "age_and_pro.head()"
   ]
  },
  {
   "cell_type": "code",
   "execution_count": 210,
   "id": "67eb692e-8a0b-454a-a9a8-931eca675005",
   "metadata": {},
   "outputs": [
    {
     "data": {
      "image/png": "[encoded data removed]",
      "text/plain": [
       "<Figure size 640x480 with 1 Axes>"
      ]
     },
     "metadata": {},
     "output_type": "display_data"
    }
   ],
   "source": [
    "sns.barplot(x='SpecialProjectsCount', y='Percentage', hue='Age_Approx_5', data=age_and_pro)\n",
    "#Mam tutaj problem z legendą, nie pokazuje wszystkich opcji?\n",
    "plt.legend(fontsize=6)\n",
    "plt.show()"
   ]
  },
  {
   "cell_type": "code",
   "execution_count": 211,
   "id": "e6f8ddd1-cfdb-4c0b-a2c6-8473c20f93ba",
   "metadata": {},
   "outputs": [
    {
     "data": {
      "text/plain": [
       "np.float64(0.11099907229583036)"
      ]
     },
     "execution_count": 211,
     "metadata": {},
     "output_type": "execute_result"
    }
   ],
   "source": [
    "age_and_pro['SpecialProjectsCount'].corr(df['Age_Approx_5'])"
   ]
  },
  {
   "cell_type": "code",
   "execution_count": 212,
   "id": "5b112b5f-511e-430a-b9b2-a6c66894e84d",
   "metadata": {},
   "outputs": [],
   "source": [
    "#Na podstawie grafu i Pearson correlation coefficient\n",
    "#można stwierdzić, że jest lekka liniowa zależność między liczbą projektów a wiekiem.\n",
    "#Osoby starsze zdając się mieć udział w większej ilości specjalnych projektów.\n",
    "#Wyjątkiem są osoby w dwóch najstarszych grupach, które nie mają żadnych specjalnych projektów.\n",
    "#Zobaczmy się, jak zmieni się zależność, gdy wyeliminujemy te dwie grupy."
   ]
  },
  {
   "cell_type": "code",
   "execution_count": 213,
   "id": "8d15c0d3-4810-4baf-a2a2-5bd7d5ed92be",
   "metadata": {},
   "outputs": [],
   "source": [
    "age_and_pro = age_and_pro.drop(age_and_pro[age_and_pro['Age_Approx_5']>55].index)"
   ]
  },
  {
   "cell_type": "code",
   "execution_count": 214,
   "id": "8e617a1c-08b8-4c0c-9449-8662a7e4ad53",
   "metadata": {},
   "outputs": [
    {
     "data": {
      "image/png": "[encoded data removed]",
      "text/plain": [
       "<Figure size 640x480 with 1 Axes>"
      ]
     },
     "metadata": {},
     "output_type": "display_data"
    }
   ],
   "source": [
    "sns.barplot(x='SpecialProjectsCount', y='Percentage', hue='Age_Approx_5', data=age_and_pro)\n",
    "plt.legend(fontsize=6)\n",
    "plt.show()"
   ]
  },
  {
   "cell_type": "code",
   "execution_count": 215,
   "id": "a0a6c8ff-f459-491d-842b-fc93f0d45f81",
   "metadata": {},
   "outputs": [
    {
     "data": {
      "text/plain": [
       "np.float64(0.3238068714461773)"
      ]
     },
     "execution_count": 215,
     "metadata": {},
     "output_type": "execute_result"
    }
   ],
   "source": [
    "age_and_pro['SpecialProjectsCount'].corr(df['Age_Approx_5'])"
   ]
  },
  {
   "cell_type": "code",
   "execution_count": 218,
   "id": "04ed6ac6-3f71-4e45-9041-d496767f0f92",
   "metadata": {},
   "outputs": [],
   "source": [
    "#Z tej wartości Pearson correlation coefficient wynika, że jest umiarkowana liniowa zależność\n",
    "#między ilością specjalnych projektów a wiekiem, gdy wyeliminujemy kilka najstarszych grup (które nie są zresztą liczne)."
   ]
  },
  {
   "cell_type": "code",
   "execution_count": 219,
   "id": "cabc7890-2044-458b-a8e8-24dfdb686e56",
   "metadata": {},
   "outputs": [],
   "source": [
    "df.to_csv('hrdataset_analysis.csv')"
   ]
  },
  {
   "cell_type": "code",
   "execution_count": null,
   "id": "7885814d-41ad-4098-a8d3-54976c221dea",
   "metadata": {},
   "outputs": [],
   "source": []
  }
 ],
 "metadata": {
  "kernelspec": {
   "display_name": "Python 3 (ipykernel)",
   "language": "python",
   "name": "python3"
  },
  "language_info": {
   "codemirror_mode": {
    "name": "ipython",
    "version": 3
   },
   "file_extension": ".py",
   "mimetype": "text/x-python",
   "name": "python",
   "nbconvert_exporter": "python",
   "pygments_lexer": "ipython3",
   "version": "3.12.5"
  }
 },
 "nbformat": 4,
 "nbformat_minor": 5
}
